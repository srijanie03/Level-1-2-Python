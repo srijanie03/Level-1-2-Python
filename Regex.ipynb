{
 "cells": [
  {
   "cell_type": "markdown",
   "id": "35387b36",
   "metadata": {},
   "source": [
    "## 1. Match a string that has is followed by zero or more b's\n"
   ]
  },
  {
   "cell_type": "code",
   "execution_count": 1,
   "id": "d89ef033",
   "metadata": {},
   "outputs": [
    {
     "name": "stdout",
     "output_type": "stream",
     "text": [
      "match\n",
      "match\n",
      "match\n",
      "no match\n"
     ]
    }
   ],
   "source": [
    "import re\n",
    "\n",
    "def text_match(text):\n",
    "    pat ='ab*?'\n",
    "    if re.search(pat,text):\n",
    "        return 'match'\n",
    "    else:\n",
    "        return 'no match'\n",
    "    \n",
    "    \n",
    "print(text_match('abc'))\n",
    "print(text_match('abbbccc'))\n",
    "print(text_match('a'))\n",
    "print(text_match('b'))"
   ]
  },
  {
   "cell_type": "markdown",
   "id": "022640e8",
   "metadata": {},
   "source": [
    "## 2. Match a string that is followed by one or more b's"
   ]
  },
  {
   "cell_type": "code",
   "execution_count": 3,
   "id": "e9568880",
   "metadata": {},
   "outputs": [
    {
     "name": "stdout",
     "output_type": "stream",
     "text": [
      "match\n",
      "match\n",
      "no match\n",
      "no match\n"
     ]
    }
   ],
   "source": [
    "def text_match(text):\n",
    "    pat ='ab+?'\n",
    "    if re.search(pat,text):\n",
    "        return 'match'\n",
    "    else:\n",
    "        return 'no match'\n",
    "    \n",
    "    \n",
    "print(text_match('abc'))\n",
    "print(text_match('abbbccc'))\n",
    "print(text_match('a'))\n",
    "print(text_match('b'))"
   ]
  },
  {
   "cell_type": "markdown",
   "id": "0b30a2ce",
   "metadata": {},
   "source": [
    "## 3. Followed by zero or one 'b'\n"
   ]
  },
  {
   "cell_type": "code",
   "execution_count": 4,
   "id": "8838baf0",
   "metadata": {},
   "outputs": [
    {
     "name": "stdout",
     "output_type": "stream",
     "text": [
      "match\n",
      "match\n",
      "match\n",
      "no match\n"
     ]
    }
   ],
   "source": [
    "def text_match(text):\n",
    "    pat ='ab?'\n",
    "    if re.search(pat,text):\n",
    "        return 'match'\n",
    "    else:\n",
    "        return 'no match'\n",
    "    \n",
    "    \n",
    "print(text_match('abc'))\n",
    "print(text_match('abbbccc'))\n",
    "print(text_match('a'))\n",
    "print(text_match('b'))"
   ]
  },
  {
   "cell_type": "markdown",
   "id": "b8485f0d",
   "metadata": {},
   "source": [
    "## 4. Followed by 2 to 3bs."
   ]
  },
  {
   "cell_type": "code",
   "execution_count": 5,
   "id": "c6d8f9be",
   "metadata": {},
   "outputs": [],
   "source": [
    "patterns = 'ab{2,3}?'"
   ]
  },
  {
   "cell_type": "markdown",
   "id": "e1a36540",
   "metadata": {},
   "source": [
    "## 5. Match the beginning and ending of a string\n"
   ]
  },
  {
   "cell_type": "code",
   "execution_count": 6,
   "id": "cb9a5955",
   "metadata": {},
   "outputs": [
    {
     "name": "stdout",
     "output_type": "stream",
     "text": [
      "Matched: The quick brown fox\n",
      "Matched: The lazy dog\n",
      "Not matched: A quick brown fox\n",
      "Matched: The quick brown fox\n",
      "Not matched: The lazy dog\n",
      "Matched: A quick brown fox\n"
     ]
    }
   ],
   "source": [
    "def text_match(text):\n",
    "    pat_beg =r'^The'\n",
    "    pat_end =r'fox$'\n",
    "    for string in text:\n",
    "        if re.search(pat_beg,string):\n",
    "            print('Matched:',string)\n",
    "        else:\n",
    "            print('Not matched:', string)\n",
    "            \n",
    "    for string in text:\n",
    "        if re.search(pat_end,string):\n",
    "            print('Matched:',string)\n",
    "        else:\n",
    "            print('Not matched:', string)\n",
    "            \n",
    "text = ['The quick brown fox', 'The lazy dog', 'A quick brown fox']\n",
    "text_match(text)"
   ]
  },
  {
   "cell_type": "markdown",
   "id": "93e15e21",
   "metadata": {},
   "source": [
    "## 6. Find all sequences of one or more digits"
   ]
  },
  {
   "cell_type": "code",
   "execution_count": 7,
   "id": "376e5ff1",
   "metadata": {},
   "outputs": [
    {
     "name": "stdout",
     "output_type": "stream",
     "text": [
      "['123456789', '987654321']\n"
     ]
    }
   ],
   "source": [
    "string = \"\"\"Hello my Number is 123456789 and\n",
    "            my friend's number is 987654321\"\"\"\n",
    "regex = '\\d+'\n",
    "match = re.findall(regex, string)\n",
    "print(match)"
   ]
  },
  {
   "cell_type": "markdown",
   "id": "9634ccb6",
   "metadata": {},
   "source": [
    "## 7. Find date\n"
   ]
  },
  {
   "cell_type": "code",
   "execution_count": 10,
   "id": "1db22ced",
   "metadata": {},
   "outputs": [
    {
     "name": "stdout",
     "output_type": "stream",
     "text": [
      "June\n",
      "24\n"
     ]
    }
   ],
   "source": [
    "def find_date(text):\n",
    "    pat=r\"([a-zA-Z]+) (\\d+)\"\n",
    "    match = re.search(pat,text)\n",
    "    if match:\n",
    "        print(match.group(1))\n",
    "        print(match.group(2))\n",
    "    else: \n",
    "        print('no match')\n",
    "find_date(\"June 24\") "
   ]
  },
  {
   "cell_type": "code",
   "execution_count": null,
   "id": "ab9ae735",
   "metadata": {},
   "outputs": [],
   "source": []
  }
 ],
 "metadata": {
  "kernelspec": {
   "display_name": "Python 3 (ipykernel)",
   "language": "python",
   "name": "python3"
  },
  "language_info": {
   "codemirror_mode": {
    "name": "ipython",
    "version": 3
   },
   "file_extension": ".py",
   "mimetype": "text/x-python",
   "name": "python",
   "nbconvert_exporter": "python",
   "pygments_lexer": "ipython3",
   "version": "3.9.7"
  }
 },
 "nbformat": 4,
 "nbformat_minor": 5
}
