{
 "cells": [
  {
   "cell_type": "markdown",
   "id": "b059b41e",
   "metadata": {},
   "source": [
    "# Strings"
   ]
  },
  {
   "cell_type": "markdown",
   "id": "0cfb8f1d",
   "metadata": {},
   "source": [
    "## 1. Code to check if two strings are isomorphic"
   ]
  },
  {
   "cell_type": "code",
   "execution_count": 1,
   "id": "a3ab7dcc",
   "metadata": {},
   "outputs": [
    {
     "name": "stdout",
     "output_type": "stream",
     "text": [
      "dict1: {'a': 4, 'b': 1, 'c': 2, 'd': 1, 'e': 1, 'f': 1}\n",
      "dict2: {'x': 4, 'y': 1, 'z': 2, 'w': 1, 'u': 2}\n"
     ]
    }
   ],
   "source": [
    "#The two strings to check\n",
    "str1 = 'aabaaccdef'\n",
    "str2 = 'xxyxxzzwuu'\n",
    "\n",
    "dict1={}\n",
    "dict2={}\n",
    "\n",
    "#Just to get a dictionary of the strings (not very helpful for this problem)\n",
    "for i in str1:\n",
    "    dict1[i]=dict1.get(i,0)+1\n",
    "    \n",
    "for j in str2:\n",
    "    dict2[j]=dict2.get(j,0)+1\n",
    "\n",
    "print('dict1:',dict1)\n",
    "print('dict2:',dict2)\n"
   ]
  },
  {
   "cell_type": "code",
   "execution_count": 2,
   "id": "d599c503",
   "metadata": {},
   "outputs": [],
   "source": [
    "# This is where we do the actual check. \n",
    "# We run through each string, remember we need the indices to be able to compare the characters in those positions.\n",
    "# If we find similar characters in two consecutive positions, we append that index to the list, else append an n’. We create these lists for both strings and then compare the list.\n",
    "# If the lists are equal, we have isomorphism."
   ]
  },
  {
   "cell_type": "code",
   "execution_count": 3,
   "id": "cac2982b",
   "metadata": {},
   "outputs": [
    {
     "name": "stdout",
     "output_type": "stream",
     "text": [
      "[0, 'n', 'n', 3, 'n', 5, 'n', 'n', 'n']\n",
      "[0, 'n', 'n', 3, 'n', 5, 'n', 'n', 8]\n",
      "Not Isomorphic\n"
     ]
    }
   ],
   "source": [
    "list1=[]\n",
    "list2=[]\n",
    "\n",
    "for i in range(len(str1)-1):\n",
    "    if(str1[i]==str1[i+1]):\n",
    "        list1.append(i)    \n",
    "    else:\n",
    "        list1.append('n')\n",
    "print(list1)      \n",
    "\n",
    "\n",
    "for j in range(len(str2)-1):\n",
    "    if(str2[j]==str2[j+1]):\n",
    "        list2.append(j)    \n",
    "    else:\n",
    "        list2.append('n')\n",
    "print(list2)\n",
    "\n",
    "if(list1==list2):\n",
    "    print('Isomorphic')\n",
    "else:\n",
    "    print('Not Isomorphic')\n",
    "\n"
   ]
  },
  {
   "cell_type": "markdown",
   "id": "2ee01a99",
   "metadata": {},
   "source": [
    "## 2. String Operations"
   ]
  },
  {
   "cell_type": "code",
   "execution_count": 4,
   "id": "887e6346",
   "metadata": {},
   "outputs": [
    {
     "name": "stdout",
     "output_type": "stream",
     "text": [
      "AABAACCCDEF LOK 123\n",
      "aabaacccdef lok 123\n",
      "0\n",
      "aakoocccdef lok 123\n",
      "['xxyxxzzwuu', 'fre']\n"
     ]
    }
   ],
   "source": [
    "str1 = 'aabaacccdef lok 123'\n",
    "str2 = 'xxyxxzzwuu fre'\n",
    "\n",
    "print(str1.upper())\n",
    "print(str1.strip())\n",
    "\n",
    "count_alpha = 0\n",
    "\n",
    "#for i in str1:\n",
    "if str1.isalpha():\n",
    "    count_alpha = 1\n",
    "\n",
    "print(count_alpha)\n",
    "\n",
    "str1.isalpha()\n",
    "\n",
    "print(str1.replace('baa','koo'))\n",
    "\n",
    "print(str2.split())"
   ]
  },
  {
   "cell_type": "markdown",
   "id": "771683be",
   "metadata": {},
   "source": [
    "## 3. Sorting"
   ]
  },
  {
   "cell_type": "code",
   "execution_count": 5,
   "id": "17c58dd2",
   "metadata": {},
   "outputs": [
    {
     "name": "stdout",
     "output_type": "stream",
     "text": [
      "['BB', 'CC', 'aa', 'zz']\n",
      "['zz', 'aa', 'CC', 'BB']\n"
     ]
    }
   ],
   "source": [
    "#Sorting (and special sorting with Custom Key)\n",
    "\n",
    "strs = ['aa', 'BB', 'zz', 'CC']\n",
    "print(sorted(strs))  ## ['BB', 'CC', 'aa', 'zz'] (case sensitive)\n",
    "print(sorted(strs, reverse=True))   ## ['zz', 'aa', 'CC', 'BB']"
   ]
  },
  {
   "cell_type": "code",
   "execution_count": 6,
   "id": "0f2488c2",
   "metadata": {},
   "outputs": [
    {
     "name": "stdout",
     "output_type": "stream",
     "text": [
      "['d', 'bb', 'ccc', 'aaaa']\n",
      "['aaaa', 'bb', 'ccc', 'd']\n"
     ]
    }
   ],
   "source": [
    "## Sorting using length \n",
    "\n",
    "strs = ['ccc', 'aaaa', 'd', 'bb']\n",
    "print(sorted(strs, key=len))  ## ['d', 'bb', 'ccc', 'aaaa']\n",
    "\n",
    "## Force sorting to treat uppercase and lowercase same\n",
    "## \"key\" argument specifying str.lower function to use for sorting\n",
    "print(sorted(strs, key=str.lower))  ## ['aa', 'BB', 'CC', 'zz']"
   ]
  },
  {
   "cell_type": "code",
   "execution_count": 7,
   "id": "2c34d85c",
   "metadata": {},
   "outputs": [
    {
     "name": "stdout",
     "output_type": "stream",
     "text": [
      "['wa', 'zb', 'xc', 'yd']\n"
     ]
    }
   ],
   "source": [
    "##Sort using own function\n",
    "\n",
    "## Say we have a list of strings we want to sort by the last letter of the string.\n",
    "strs = ['xc', 'zb', 'yd' ,'wa']\n",
    "\n",
    "## Write a little function that takes a string, and returns its last letter.\n",
    "## This will be the key function (takes in 1 value, returns 1 value).\n",
    "def MyFn(s):\n",
    "    return s[-1]\n",
    "\n",
    "## Now pass key=MyFn to sorted() to sort by the last letter:\n",
    "print(sorted(strs, key=MyFn))  ## ['wa', 'zb', 'xc', 'yd']"
   ]
  },
  {
   "cell_type": "markdown",
   "id": "0c4ba74b",
   "metadata": {},
   "source": [
    "## 3. Dictionary"
   ]
  },
  {
   "cell_type": "code",
   "execution_count": 8,
   "id": "1203ae24",
   "metadata": {},
   "outputs": [
    {
     "name": "stdout",
     "output_type": "stream",
     "text": [
      "dict_keys(['d', 'b', 'a'])\n",
      "dict_values(['apple', 'ball', 'dog'])\n",
      "dict_items([('d', 'apple'), ('b', 'ball'), ('a', 'dog')])\n",
      "['a', 'b', 'd']\n",
      "dict_keys(['d', 'b', 'a'])\n"
     ]
    }
   ],
   "source": [
    "str1 = 'aabaacccdef lok 123'\n",
    "str2 = 'xxyxxzzwuu fre'\n",
    "\n",
    "\n",
    "dict = {'d':'apple','b':'ball','a':'dog'}\n",
    "print(dict.keys())\n",
    "print(dict.values())\n",
    "print(dict.items())\n",
    "print(sorted(dict.keys()))\n",
    "\n",
    "list=dict.keys()\n",
    "print(list)"
   ]
  },
  {
   "cell_type": "markdown",
   "id": "2bc00de6",
   "metadata": {},
   "source": [
    "## 4. A program that accepts a sequence of whitespace separated words as input and prints the words after removing all duplicate words and sorting them alphanumerically."
   ]
  },
  {
   "cell_type": "code",
   "execution_count": 9,
   "id": "c6aed0d8",
   "metadata": {},
   "outputs": [
    {
     "name": "stdout",
     "output_type": "stream",
     "text": [
      "again and hello makes perfect practice world\n"
     ]
    }
   ],
   "source": [
    "str2='hello world and practice makes perfect and hello world again'\n",
    "words = [word for word in str2.split(\" \")]\n",
    "a = sorted(set(words))\n",
    "print (\" \".join(sorted(set(words))))"
   ]
  },
  {
   "cell_type": "markdown",
   "id": "38f594de",
   "metadata": {},
   "source": [
    "## 5. Convert Lowercase to Uppercase using List comprehension "
   ]
  },
  {
   "cell_type": "code",
   "execution_count": 10,
   "id": "d3693f54",
   "metadata": {},
   "outputs": [
    {
     "name": "stdout",
     "output_type": "stream",
     "text": [
      "['FUN', 'FOO', 'BAR']\n"
     ]
    }
   ],
   "source": [
    "# Initialisation\n",
    "input = ['fun', 'Foo', 'BaR']\n",
    " \n",
    "# Converting\n",
    "lst = [x.upper() for x in input]\n",
    " \n",
    "# printing output\n",
    "print(lst)"
   ]
  },
  {
   "cell_type": "markdown",
   "id": "b3aa780d",
   "metadata": {},
   "source": [
    "## 6. Checking for alphabet and digits"
   ]
  },
  {
   "cell_type": "code",
   "execution_count": 11,
   "id": "5523478f",
   "metadata": {},
   "outputs": [],
   "source": [
    "s='apple1'\n",
    "dig=[]\n",
    "let=[]\n",
    "for c in s:\n",
    "    if c.isdigit():\n",
    "        dig.append(c)\n",
    "    elif c.isalpha():\n",
    "        let.append(c)"
   ]
  },
  {
   "cell_type": "markdown",
   "id": "c8e78996",
   "metadata": {},
   "source": [
    "## 7. Easy password search using regex"
   ]
  },
  {
   "cell_type": "code",
   "execution_count": 12,
   "id": "f596bbb7",
   "metadata": {},
   "outputs": [
    {
     "name": "stdout",
     "output_type": "stream",
     "text": [
      "ABd1234@1\n"
     ]
    }
   ],
   "source": [
    "l=['ABd1234@1','a F1#','2w3E*','2We3345']\n",
    "value= []\n",
    "\n",
    "import re\n",
    "\n",
    "items = [x for x in l]\n",
    "for p in items:\n",
    "    if not re.search(\"[a-z]\",p):\n",
    "        continue\n",
    "    elif not re.search(\"[0-9]\",p):\n",
    "        continue\n",
    "    elif not re.search(\"[A-Z]\",p):\n",
    "        continue\n",
    "    elif not re.search(\"[$#@]\",p):\n",
    "        continue\n",
    "    elif re.search(\"\\s\",p):\n",
    "        continue\n",
    "    else:\n",
    "        pass\n",
    "    value.append(p)\n",
    "    \n",
    "print (\",\".join(value))\n"
   ]
  },
  {
   "cell_type": "markdown",
   "id": "3f6282cd",
   "metadata": {},
   "source": [
    "## 8. Reverse a sentence "
   ]
  },
  {
   "cell_type": "code",
   "execution_count": 13,
   "id": "7a436ef0",
   "metadata": {},
   "outputs": [
    {
     "name": "stdout",
     "output_type": "stream",
     "text": [
      "hcum yrev gnimaargorp evol i\n",
      "['i', 'love', 'prograaming', 'very', 'much']\n",
      "['much', 'very', 'prograaming', 'love', 'i']\n",
      "much very prograaming love i\n"
     ]
    }
   ],
   "source": [
    "s1 = \"i love prograaming very much\"\n",
    "s=s1[::-1]\n",
    "print(s)\n",
    "\n",
    "word = s1.split()\n",
    "print(word)\n",
    "l1=[]\n",
    "for i in reversed(range(len(word))):\n",
    "    l1.append(word[i])\n",
    "    \n",
    "print(l1)\n",
    "print(' '.join(l1))\n"
   ]
  },
  {
   "cell_type": "markdown",
   "id": "3556c9c4",
   "metadata": {},
   "source": [
    "## 9. Shortest distance between two words in a sentence"
   ]
  },
  {
   "cell_type": "code",
   "execution_count": 14,
   "id": "f416c39b",
   "metadata": {},
   "outputs": [
    {
     "name": "stdout",
     "output_type": "stream",
     "text": [
      "3\n"
     ]
    }
   ],
   "source": [
    "def shortestdistance(S,word1,word2):\n",
    "    for i in range(len(S)):\n",
    "        if(S[i]==word1):\n",
    "            word1_ind=i\n",
    "        if(S[i]==word2):\n",
    "            word2_ind=i\n",
    "    dist = abs(word2_ind-word1_ind)\n",
    "    return dist\n",
    "    \n",
    "\n",
    "\n",
    "\n",
    "#Driver Code\n",
    "if __name__==\"__main__\":\n",
    "    S = [ \"the\", \"quick\", \"brown\", \"fox\", \"quick\" ];\n",
    "    word1 = \"the\"; word2 = \"fox\";\n",
    "    print(shortestdistance(S,word1,word2))"
   ]
  },
  {
   "cell_type": "markdown",
   "id": "b1e6ddad",
   "metadata": {},
   "source": [
    "## 10.  Code to check how different two strings are and print the extra characters (another approach to check if one string is a subsequence of the other)."
   ]
  },
  {
   "cell_type": "code",
   "execution_count": 15,
   "id": "40313053",
   "metadata": {},
   "outputs": [
    {
     "name": "stdout",
     "output_type": "stream",
     "text": [
      "['b', 'c', 'q', 'w']\n",
      "['a', 'p', 'p', 'l', 'e']\n"
     ]
    }
   ],
   "source": [
    "str1='apple'\n",
    "str2='abpcpqwlea'\n",
    "\n",
    "len_1=len(str1)\n",
    "len_2=len(str2)\n",
    "\n",
    "l=[]\n",
    "sub=[]\n",
    "i=0\n",
    "j=0\n",
    "\n",
    "while (i<len_1 and j<len_2):\n",
    "    if(str1[i]==str2[j]):\n",
    "       sub.append(str2[j])\n",
    "       i=i+1\n",
    "       j=j+1\n",
    "    else:\n",
    "        l.append(str2[j])\n",
    "        j=j+1\n",
    "        \n",
    "print(l)\n",
    "print(sub)\n",
    "\n",
    "if(str1==sub):\n",
    "    print('Match')"
   ]
  },
  {
   "cell_type": "markdown",
   "id": "45267a01",
   "metadata": {},
   "source": [
    "## 11. Given a list and a string ‘str’, find the longest string in the list which can be formed by deleting some characters of the given ‘str’."
   ]
  },
  {
   "cell_type": "code",
   "execution_count": 16,
   "id": "b5d54cd2",
   "metadata": {},
   "outputs": [
    {
     "name": "stdout",
     "output_type": "stream",
     "text": [
      "apple\n"
     ]
    }
   ],
   "source": [
    "#Function to check if a string is a subsequence of the other\n",
    "\n",
    "def subseq(str1,str2):\n",
    "    len_1=len(str1)\n",
    "    len_2=len(str2)\n",
    "    i=0\n",
    "    j=0\n",
    "\t#loop to check each character\n",
    "    while (i<len_1 and j<len_2):\n",
    "       if(str1[i]==str2[j]):\n",
    "        sub.append(str2[j])\n",
    "        i=i+1\n",
    "        j=j+1\n",
    "       else:\n",
    "        l.append(str2[j])\n",
    "        j=j+1\n",
    "        \n",
    "    return(i==len_1) #if all chars have been traversed, it means subsequence.\n",
    "\n",
    "#Function to use above function and check for each word in the list\n",
    "\n",
    "def longstring(dict1,str1):\n",
    "    result = \"\"\n",
    "    length = 0\n",
    "\n",
    "    for word in dict1:\n",
    "        if (length<len(word) and subseq(word,str1)):\n",
    "            result=word\n",
    "            length=len(word)\n",
    "    return result\n",
    "    \n",
    "dict1 = [\"ale\", \"apple\", \"monkey\", \"plea\"];\n",
    "str3 = \"abpcplea\" ;\n",
    "print(longstring(dict1, str3))"
   ]
  },
  {
   "cell_type": "code",
   "execution_count": null,
   "id": "dcdbbbaf",
   "metadata": {},
   "outputs": [],
   "source": []
  }
 ],
 "metadata": {
  "kernelspec": {
   "display_name": "Python 3 (ipykernel)",
   "language": "python",
   "name": "python3"
  },
  "language_info": {
   "codemirror_mode": {
    "name": "ipython",
    "version": 3
   },
   "file_extension": ".py",
   "mimetype": "text/x-python",
   "name": "python",
   "nbconvert_exporter": "python",
   "pygments_lexer": "ipython3",
   "version": "3.9.7"
  }
 },
 "nbformat": 4,
 "nbformat_minor": 5
}
