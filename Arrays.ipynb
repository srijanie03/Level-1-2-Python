{
 "cells": [
  {
   "cell_type": "markdown",
   "id": "2171dda0",
   "metadata": {},
   "source": [
    "## 1. Array Rotation"
   ]
  },
  {
   "cell_type": "code",
   "execution_count": 1,
   "id": "664baa7d",
   "metadata": {},
   "outputs": [
    {
     "name": "stdout",
     "output_type": "stream",
     "text": [
      "[4, 1, 423, 6, 46, 34, 23, 13, 13, 53]\n"
     ]
    }
   ],
   "source": [
    "a = [1, 423, 6, 46, 34, 23, 13,13, 53, 4]\n",
    "\n",
    "def rot_arr(ar,n):\n",
    "    last_el = ar[n-1]\n",
    "    \n",
    "    for i in range(n-1,0,-1):\n",
    "        ar[i]=a[i-1]\n",
    "        \n",
    "    ar[0]=last_el\n",
    "    print(ar)\n",
    "    \n",
    "n=len(a)\n",
    "rot_arr(a,n)"
   ]
  },
  {
   "cell_type": "markdown",
   "id": "aa0a78f2",
   "metadata": {},
   "source": [
    "## 2. Find missing integer in array"
   ]
  },
  {
   "cell_type": "code",
   "execution_count": 2,
   "id": "faa5b37c",
   "metadata": {},
   "outputs": [
    {
     "name": "stdout",
     "output_type": "stream",
     "text": [
      "6\n",
      "5\n"
     ]
    }
   ],
   "source": [
    "a = [1,2,3,4,6]\n",
    "n=len(a)\n",
    "\n",
    "print(max(a))\n",
    "b=[]\n",
    "\n",
    "for i in range(1,n+1):\n",
    "    b.append(i)\n",
    "\n",
    "for x in b:\n",
    "    if(x not in a):\n",
    "        print(x)"
   ]
  },
  {
   "cell_type": "markdown",
   "id": "7f25ab54",
   "metadata": {},
   "source": [
    "## 3. To find pair for a sum"
   ]
  },
  {
   "cell_type": "code",
   "execution_count": 3,
   "id": "34de0f37",
   "metadata": {},
   "outputs": [
    {
     "name": "stdout",
     "output_type": "stream",
     "text": [
      "[(1, 5), (1, 7), (1, -1), (5, 7), (5, -1), (7, -1)]\n",
      "[(1, 5), (7, -1)]\n"
     ]
    }
   ],
   "source": [
    "a = [1,5,7,-1]\n",
    "k=6\n",
    "\n",
    "import itertools as it\n",
    "\n",
    "com = list(it.combinations(a,2))\n",
    "print(com)\n",
    "\n",
    "sum_co=[]\n",
    "\n",
    "for co in com:\n",
    "    if sum(co)==k:\n",
    "        sum_co.append(co)\n",
    "        \n",
    "print(sum_co)"
   ]
  },
  {
   "cell_type": "markdown",
   "id": "f5bf8472",
   "metadata": {},
   "source": [
    "## 4. Find duplicates in an array"
   ]
  },
  {
   "cell_type": "code",
   "execution_count": 4,
   "id": "b2cd55a3",
   "metadata": {},
   "outputs": [
    {
     "name": "stdout",
     "output_type": "stream",
     "text": [
      "{5: 2, 8: 2}\n",
      "[5, 8]\n"
     ]
    }
   ],
   "source": [
    "a = [1,5,5,6,7,8,8]\n",
    "\n",
    "dict1={}\n",
    "for i in range(len(a)):\n",
    "    if(a.count(a[i])>1):\n",
    "        dict1[a[i]]=a.count(a[i])\n",
    "        \n",
    "\n",
    "print(dict1)\n",
    "\n",
    "print(sorted(dict1))"
   ]
  },
  {
   "cell_type": "markdown",
   "id": "15bbf7ec",
   "metadata": {},
   "source": [
    "## 5. Find common elements among three arrays"
   ]
  },
  {
   "cell_type": "code",
   "execution_count": 5,
   "id": "8ed1933d",
   "metadata": {},
   "outputs": [
    {
     "name": "stdout",
     "output_type": "stream",
     "text": [
      "[20, 80]\n"
     ]
    }
   ],
   "source": [
    "a1 = [1,5,10,20,40,80]\n",
    "a2=[6,7,20,80,100]\n",
    "a3=[3,4,15,20,30,70,80,120]\n",
    "\n",
    "first_two=[]\n",
    "\n",
    "final =[]\n",
    "\n",
    "for x in a1:\n",
    "    if x in a2:\n",
    "        first_two.append(x)\n",
    "\n",
    "for x in a3:\n",
    "    if x in first_two:\n",
    "        final.append(x)\n",
    "    \n",
    "print(final)"
   ]
  },
  {
   "cell_type": "markdown",
   "id": "ba117623",
   "metadata": {},
   "source": [
    "### 6. Given an array of integers arr[], The task is to find the index of the first repeating element in it i.e. the element that occurs more than once and whose index of the first occurrence is the smallest. \n",
    "\n"
   ]
  },
  {
   "cell_type": "code",
   "execution_count": 6,
   "id": "4ba42d82",
   "metadata": {},
   "outputs": [],
   "source": [
    "a1=[6,10,5,4,9,120,4,6,10]\n",
    "\n",
    "ele =[]\n",
    "pos = []\n",
    "\n",
    "for i in range(len(a1)):\n",
    "    if(a1.count(a1[i])>1):\n",
    "        ele.append(a1[i])\n",
    "        pos.append(i)\n",
    "        \n",
    "new= zip(ele,pos)"
   ]
  },
  {
   "cell_type": "markdown",
   "id": "8e8cc3e3",
   "metadata": {},
   "source": [
    "### 7. Given an array having positive and negative numbers, our task is to arrange them in an alternate fashion such that every positive number is followed by a negative number and vice-versa maintaining the order of appearance. The number of positive and negative numbers need not to be equal. If there are more positive numbers then they have to appear at the end of the array , same condition for negative numbers also .\n",
    "\n"
   ]
  },
  {
   "cell_type": "code",
   "execution_count": 7,
   "id": "db959466",
   "metadata": {},
   "outputs": [
    {
     "name": "stdout",
     "output_type": "stream",
     "text": [
      "[-4, -1]\n",
      "[1, 2, 3, 4]\n",
      "[-4, 1, -1, 2, 3, 4]\n"
     ]
    }
   ],
   "source": [
    "a=[1,2,3,-4,-1,4]\n",
    "neg=[]\n",
    "pos=[]\n",
    "\n",
    "for i in a:\n",
    "    if i<0:\n",
    "        neg.append(i)\n",
    "    else:\n",
    "        pos.append(i)\n",
    "\n",
    "print(neg)\n",
    "print(pos)\n",
    "\n",
    "\n",
    "sorted_neg=sorted(neg)\n",
    "sorted_pos=sorted(pos)\n",
    "\n",
    "neg_l=len(neg)\n",
    "pos_l=len(pos)\n",
    "new=[]\n",
    "i=0\n",
    "j=0\n",
    "\n",
    "\n",
    "if(neg_l<=pos_l):\n",
    "    while(i<neg_l):\n",
    "        new.append(sorted_neg[i])\n",
    "        new.append(sorted_pos[i])\n",
    "        i=i+1\n",
    "    for i in range(neg_l,pos_l):\n",
    "         new.append(sorted_pos[i])\n",
    "         \n",
    "if(pos_l<=neg_l):\n",
    "    while(i<pos_l):\n",
    "        new.append(sorted_neg[i])\n",
    "        new.append(sorted_pos[i])\n",
    "        i=i+1\n",
    "        \n",
    "    for i in range(pos_l,neg_l):\n",
    "         new.append(sorted_neg[i])\n",
    "\n",
    "print(new)"
   ]
  },
  {
   "cell_type": "markdown",
   "id": "6cc95866",
   "metadata": {},
   "source": [
    "### 8. Given the heights of N towers and a value of K, Either increase or decrease the height of every tower by K (only once) where K > 0. After modifications, the task is to maximize the sum of the heights of the longest and the shortest tower and output its difference.\n"
   ]
  },
  {
   "cell_type": "code",
   "execution_count": 8,
   "id": "fc1f4347",
   "metadata": {},
   "outputs": [
    {
     "name": "stdout",
     "output_type": "stream",
     "text": [
      "[(7, -5), (7, 21), (7, 9), (7, 16), (7, 4), (-5, 21), (-5, 9), (-5, 16), (-5, 4), (21, 9), (21, 16), (21, 4), (9, 16), (9, 4), (16, 4)]\n",
      "37\n"
     ]
    }
   ],
   "source": [
    "a=[1,15,10]\n",
    "k=6\n",
    "\n",
    "import itertools as it\n",
    "\n",
    "def tower(a,k):\n",
    "    n=len(a)\n",
    "    list1=[]\n",
    "    for i in range(n):\n",
    "        list1.append(a[i]+k)\n",
    "        list1.append(a[i]-k)\n",
    "    com = list(it.combinations(list1,2))\n",
    "    diff_l= list(map(sum,com))\n",
    "    print(com)\n",
    "    return max(diff_l)\n",
    "    \n",
    "\n",
    "print(tower(a,k))"
   ]
  },
  {
   "cell_type": "markdown",
   "id": "99902fb1",
   "metadata": {},
   "source": [
    "### 9. Wave array : Given an unsorted array, rewrite the array in wave form i.e. [small, big, small, big…]\n",
    "\n"
   ]
  },
  {
   "cell_type": "code",
   "execution_count": 9,
   "id": "2f065e50",
   "metadata": {},
   "outputs": [
    {
     "name": "stdout",
     "output_type": "stream",
     "text": [
      "[1, 6, 2, 5, 3, 4]\n"
     ]
    }
   ],
   "source": [
    "def wave(a,n):\n",
    "    rev_a= sorted(a,reverse=True)\n",
    "    new=[]\n",
    "    for i in range(len(a)):\n",
    "        if a[i] in new:\n",
    "            break\n",
    "        else:\n",
    "            new.append(a[i])\n",
    "            new.append(rev_a[i])\n",
    "    print(new)\n",
    "    \n",
    "a=[1,2,3,4,6,5]\n",
    "n=6\n",
    "\n",
    "wave(a,n)"
   ]
  },
  {
   "cell_type": "markdown",
   "id": "a80e1135",
   "metadata": {},
   "source": [
    "### 10. Repetition and missing\n"
   ]
  },
  {
   "cell_type": "code",
   "execution_count": 10,
   "id": "8dbd1683",
   "metadata": {},
   "outputs": [
    {
     "name": "stdout",
     "output_type": "stream",
     "text": [
      "Mising: 2\n",
      "Repeat: 3\n"
     ]
    }
   ],
   "source": [
    "def mr(a):\n",
    "    max_ele = max(a)\n",
    "    new_list=[]\n",
    "    for i in range(1,max_ele+1):\n",
    "        new_list.append(i)\n",
    "    for x in new_list:\n",
    "        if x not in a:\n",
    "            print('Mising:',x)\n",
    "        elif (x in a and a.count(x)>1):\n",
    "            print('Repeat:',x)\n",
    "            \n",
    "a=[3,1,3]            \n",
    "mr(a)"
   ]
  },
  {
   "cell_type": "markdown",
   "id": "45dd6a10",
   "metadata": {},
   "source": [
    "### 11.  You have three 20 dollar bills, five 10 dollar bills, two 5 dollar bills, and five 1 dollar bills. How many ways can you make change for a 100 dollar bill?\n"
   ]
  },
  {
   "cell_type": "code",
   "execution_count": 11,
   "id": "cd80699b",
   "metadata": {},
   "outputs": [],
   "source": [
    "import itertools as it\n",
    "bills = [20, 20, 20, 10, 10, 10, 10, 10, 5, 5, 1, 1, 1, 1, 1]\n",
    "\n",
    "#to list the combinations of three bills\n",
    "list(it.combinations(bills, 3))\n",
    "# [(20, 20, 20), (20, 20, 10), (20, 20, 10), ... ]\n",
    "    \n",
    "#main check\n",
    "makes_100 = []\n",
    "\n",
    "for n in range(1, len(bills) + 1):\n",
    "      for combination in it.combinations(bills, n):\n",
    "             if sum(combination) == 100:\n",
    "                     makes_100.append(combination)"
   ]
  }
 ],
 "metadata": {
  "kernelspec": {
   "display_name": "Python 3 (ipykernel)",
   "language": "python",
   "name": "python3"
  },
  "language_info": {
   "codemirror_mode": {
    "name": "ipython",
    "version": 3
   },
   "file_extension": ".py",
   "mimetype": "text/x-python",
   "name": "python",
   "nbconvert_exporter": "python",
   "pygments_lexer": "ipython3",
   "version": "3.9.7"
  }
 },
 "nbformat": 4,
 "nbformat_minor": 5
}
